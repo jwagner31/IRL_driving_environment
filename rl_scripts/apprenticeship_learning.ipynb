{
 "cells": [
  {
   "cell_type": "markdown",
   "metadata": {},
   "source": [
    "# IRL via Apprenticeship Learning"
   ]
  },
  {
   "cell_type": "markdown",
   "metadata": {},
   "source": [
    "## Overview\n",
    "\n",
    "- https://github.com/Farama-Foundation/HighwayEnv"
   ]
  },
  {
   "cell_type": "markdown",
   "metadata": {},
   "source": [
    "## Imports"
   ]
  },
  {
   "cell_type": "code",
   "execution_count": 6,
   "metadata": {},
   "outputs": [],
   "source": [
    "import gymnasium as gym\n",
    "import highway_env\n",
    "from matplotlib import pyplot as plt\n",
    "import pprint"
   ]
  },
  {
   "cell_type": "markdown",
   "metadata": {},
   "source": [
    "## Environment"
   ]
  },
  {
   "cell_type": "markdown",
   "metadata": {},
   "source": [
    "### Environment Creation"
   ]
  },
  {
   "cell_type": "code",
   "execution_count": 5,
   "metadata": {},
   "outputs": [],
   "source": [
    "# Create the highway environment with configurations\n",
    "config = {\n",
    "    \"observation\": {\n",
    "        \"type\": \"Kinematics\",\n",
    "        \"vehicles_count\": 4,\n",
    "        \"features\": [\"presence\", \"x\", \"y\", \"vx\", \"vy\"],\n",
    "        \"absolute\": True,\n",
    "        \"normalize\": False\n",
    "    },\n",
    "    \"action\": {\n",
    "        \"type\": \"DiscreteMetaAction\",\n",
    "        \"longitudinal\": True,\n",
    "        \"lateral\": True\n",
    "    },\n",
    "    \"duration\": 40,\n",
    "    \"lanes_count\": 3,\n",
    "    \"vehicles_density\": 1.0,\n",
    "    \"collision_reward\": -1,\n",
    "    \"right_lane_reward\": 0.1,\n",
    "    \"high_speed_reward\": 0.4,\n",
    "    \"reward_speed_range\": [20, 30],\n",
    "    \"normalize_reward\": True\n",
    "}\n",
    "\n",
    "env = gym.make('highway-v0', render_mode='rgb_array', config=config)\n"
   ]
  },
  {
   "cell_type": "code",
   "execution_count": 7,
   "metadata": {},
   "outputs": [
    {
     "name": "stdout",
     "output_type": "stream",
     "text": [
      "{'action': {'lateral': True,\n",
      "            'longitudinal': True,\n",
      "            'type': 'DiscreteMetaAction'},\n",
      " 'centering_position': [0.3, 0.5],\n",
      " 'collision_reward': -1,\n",
      " 'controlled_vehicles': 1,\n",
      " 'duration': 40,\n",
      " 'ego_spacing': 2,\n",
      " 'high_speed_reward': 0.4,\n",
      " 'initial_lane_id': None,\n",
      " 'lane_change_reward': 0,\n",
      " 'lanes_count': 3,\n",
      " 'manual_control': False,\n",
      " 'normalize_reward': True,\n",
      " 'observation': {'absolute': True,\n",
      "                 'features': ['presence', 'x', 'y', 'vx', 'vy'],\n",
      "                 'normalize': False,\n",
      "                 'type': 'Kinematics',\n",
      "                 'vehicles_count': 4},\n",
      " 'offroad_terminal': False,\n",
      " 'offscreen_rendering': False,\n",
      " 'other_vehicles_type': 'highway_env.vehicle.behavior.IDMVehicle',\n",
      " 'policy_frequency': 1,\n",
      " 'real_time_rendering': False,\n",
      " 'render_agent': True,\n",
      " 'reward_speed_range': [20, 30],\n",
      " 'right_lane_reward': 0.1,\n",
      " 'scaling': 5.5,\n",
      " 'screen_height': 150,\n",
      " 'screen_width': 600,\n",
      " 'show_trajectories': False,\n",
      " 'simulation_frequency': 15,\n",
      " 'vehicles_count': 50,\n",
      " 'vehicles_density': 1.0}\n"
     ]
    }
   ],
   "source": [
    "import pprint\n",
    "pprint.pprint(env.unwrapped.config)"
   ]
  },
  {
   "cell_type": "code",
   "execution_count": 10,
   "metadata": {},
   "outputs": [
    {
     "ename": "ModuleNotFoundError",
     "evalue": "The finite_mdp module is required for conversion. No module named 'finite_mdp'",
     "output_type": "error",
     "traceback": [
      "\u001b[0;31m---------------------------------------------------------------------------\u001b[0m",
      "\u001b[0;31mModuleNotFoundError\u001b[0m                       Traceback (most recent call last)",
      "File \u001b[0;32m/opt/anaconda3/envs/highway/lib/python3.10/site-packages/highway_env/envs/common/finite_mdp.py:94\u001b[0m, in \u001b[0;36mfinite_mdp\u001b[0;34m(env, time_quantization, horizon)\u001b[0m\n\u001b[1;32m     93\u001b[0m \u001b[39mtry\u001b[39;00m:\n\u001b[0;32m---> 94\u001b[0m     module \u001b[39m=\u001b[39m importlib\u001b[39m.\u001b[39;49mimport_module(\u001b[39m\"\u001b[39;49m\u001b[39mfinite_mdp.mdp\u001b[39;49m\u001b[39m\"\u001b[39;49m)\n\u001b[1;32m     95\u001b[0m     mdp \u001b[39m=\u001b[39m module\u001b[39m.\u001b[39mDeterministicMDP(transition, reward, terminal, state\u001b[39m=\u001b[39mstate)\n",
      "File \u001b[0;32m/opt/anaconda3/envs/highway/lib/python3.10/importlib/__init__.py:126\u001b[0m, in \u001b[0;36mimport_module\u001b[0;34m(name, package)\u001b[0m\n\u001b[1;32m    125\u001b[0m         level \u001b[39m+\u001b[39m\u001b[39m=\u001b[39m \u001b[39m1\u001b[39m\n\u001b[0;32m--> 126\u001b[0m \u001b[39mreturn\u001b[39;00m _bootstrap\u001b[39m.\u001b[39;49m_gcd_import(name[level:], package, level)\n",
      "File \u001b[0;32m<frozen importlib._bootstrap>:1050\u001b[0m, in \u001b[0;36m_gcd_import\u001b[0;34m(name, package, level)\u001b[0m\n",
      "File \u001b[0;32m<frozen importlib._bootstrap>:1027\u001b[0m, in \u001b[0;36m_find_and_load\u001b[0;34m(name, import_)\u001b[0m\n",
      "File \u001b[0;32m<frozen importlib._bootstrap>:992\u001b[0m, in \u001b[0;36m_find_and_load_unlocked\u001b[0;34m(name, import_)\u001b[0m\n",
      "File \u001b[0;32m<frozen importlib._bootstrap>:241\u001b[0m, in \u001b[0;36m_call_with_frames_removed\u001b[0;34m(f, *args, **kwds)\u001b[0m\n",
      "File \u001b[0;32m<frozen importlib._bootstrap>:1050\u001b[0m, in \u001b[0;36m_gcd_import\u001b[0;34m(name, package, level)\u001b[0m\n",
      "File \u001b[0;32m<frozen importlib._bootstrap>:1027\u001b[0m, in \u001b[0;36m_find_and_load\u001b[0;34m(name, import_)\u001b[0m\n",
      "File \u001b[0;32m<frozen importlib._bootstrap>:1004\u001b[0m, in \u001b[0;36m_find_and_load_unlocked\u001b[0;34m(name, import_)\u001b[0m\n",
      "\u001b[0;31mModuleNotFoundError\u001b[0m: No module named 'finite_mdp'",
      "\nDuring handling of the above exception, another exception occurred:\n",
      "\u001b[0;31mModuleNotFoundError\u001b[0m                       Traceback (most recent call last)",
      "\u001b[1;32m/Users/joewagner/Documents/GitHub/2025Spring/IRL_driving_environment/IRL_driving_environment/rl_scripts/apprenticeship_learning.ipynb Cell 9\u001b[0m line \u001b[0;36m3\n\u001b[1;32m      <a href='vscode-notebook-cell:/Users/joewagner/Documents/GitHub/2025Spring/IRL_driving_environment/IRL_driving_environment/rl_scripts/apprenticeship_learning.ipynb#X14sZmlsZQ%3D%3D?line=0'>1</a>\u001b[0m \u001b[39m# Convert to finite MDP\u001b[39;00m\n\u001b[1;32m      <a href='vscode-notebook-cell:/Users/joewagner/Documents/GitHub/2025Spring/IRL_driving_environment/IRL_driving_environment/rl_scripts/apprenticeship_learning.ipynb#X14sZmlsZQ%3D%3D?line=1'>2</a>\u001b[0m base_env \u001b[39m=\u001b[39m env\u001b[39m.\u001b[39munwrapped\n\u001b[0;32m----> <a href='vscode-notebook-cell:/Users/joewagner/Documents/GitHub/2025Spring/IRL_driving_environment/IRL_driving_environment/rl_scripts/apprenticeship_learning.ipynb#X14sZmlsZQ%3D%3D?line=2'>3</a>\u001b[0m mdp \u001b[39m=\u001b[39m base_env\u001b[39m.\u001b[39;49mto_finite_mdp()\n\u001b[1;32m      <a href='vscode-notebook-cell:/Users/joewagner/Documents/GitHub/2025Spring/IRL_driving_environment/IRL_driving_environment/rl_scripts/apprenticeship_learning.ipynb#X14sZmlsZQ%3D%3D?line=4'>5</a>\u001b[0m \u001b[39m# Print environment information\u001b[39;00m\n\u001b[1;32m      <a href='vscode-notebook-cell:/Users/joewagner/Documents/GitHub/2025Spring/IRL_driving_environment/IRL_driving_environment/rl_scripts/apprenticeship_learning.ipynb#X14sZmlsZQ%3D%3D?line=5'>6</a>\u001b[0m \u001b[39mprint\u001b[39m(\u001b[39m\"\u001b[39m\u001b[39mObservation space:\u001b[39m\u001b[39m\"\u001b[39m, mdp\u001b[39m.\u001b[39mobservation_space)\n",
      "File \u001b[0;32m/opt/anaconda3/envs/highway/lib/python3.10/site-packages/highway_env/envs/common/abstract.py:417\u001b[0m, in \u001b[0;36mAbstractEnv.to_finite_mdp\u001b[0;34m(self)\u001b[0m\n\u001b[1;32m    416\u001b[0m \u001b[39mdef\u001b[39;00m\u001b[39m \u001b[39m\u001b[39mto_finite_mdp\u001b[39m(\u001b[39mself\u001b[39m):\n\u001b[0;32m--> 417\u001b[0m     \u001b[39mreturn\u001b[39;00m finite_mdp(\u001b[39mself\u001b[39;49m, time_quantization\u001b[39m=\u001b[39;49m\u001b[39m1\u001b[39;49m \u001b[39m/\u001b[39;49m \u001b[39mself\u001b[39;49m\u001b[39m.\u001b[39;49mconfig[\u001b[39m\"\u001b[39;49m\u001b[39mpolicy_frequency\u001b[39;49m\u001b[39m\"\u001b[39;49m])\n",
      "File \u001b[0;32m/opt/anaconda3/envs/highway/lib/python3.10/site-packages/highway_env/envs/common/finite_mdp.py:99\u001b[0m, in \u001b[0;36mfinite_mdp\u001b[0;34m(env, time_quantization, horizon)\u001b[0m\n\u001b[1;32m     97\u001b[0m     \u001b[39mreturn\u001b[39;00m mdp\n\u001b[1;32m     98\u001b[0m \u001b[39mexcept\u001b[39;00m \u001b[39mModuleNotFoundError\u001b[39;00m \u001b[39mas\u001b[39;00m e:\n\u001b[0;32m---> 99\u001b[0m     \u001b[39mraise\u001b[39;00m \u001b[39mModuleNotFoundError\u001b[39;00m(\n\u001b[1;32m    100\u001b[0m         \u001b[39mf\u001b[39m\u001b[39m\"\u001b[39m\u001b[39mThe finite_mdp module is required for conversion. \u001b[39m\u001b[39m{\u001b[39;00me\u001b[39m}\u001b[39;00m\u001b[39m\"\u001b[39m\n\u001b[1;32m    101\u001b[0m     )\n",
      "\u001b[0;31mModuleNotFoundError\u001b[0m: The finite_mdp module is required for conversion. No module named 'finite_mdp'"
     ]
    }
   ],
   "source": [
    "# Convert to finite MDP\n",
    "base_env = env.unwrapped\n",
    "mdp = base_env.to_finite_mdp()\n",
    "\n",
    "# Print environment information\n",
    "print(\"Observation space:\", mdp.observation_space)\n",
    "print(\"Action space:\", mdp.action_space)\n",
    "print(\"Number of states:\", mdp.observation_space.n)\n",
    "print(\"Number of actions:\", mdp.action_space.n)"
   ]
  },
  {
   "cell_type": "markdown",
   "metadata": {},
   "source": [
    "### Observation Space"
   ]
  },
  {
   "cell_type": "markdown",
   "metadata": {},
   "source": []
  }
 ],
 "metadata": {
  "language_info": {
   "name": "python"
  }
 },
 "nbformat": 4,
 "nbformat_minor": 2
}
