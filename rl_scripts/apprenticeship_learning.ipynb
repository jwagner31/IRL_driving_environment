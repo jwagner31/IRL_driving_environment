{
 "cells": [
  {
   "cell_type": "markdown",
   "metadata": {},
   "source": [
    "# IRL via Apprenticeship Learning"
   ]
  },
  {
   "cell_type": "markdown",
   "metadata": {},
   "source": [
    "## Overview\n",
    "\n",
    "- https://github.com/Farama-Foundation/HighwayEnv"
   ]
  },
  {
   "cell_type": "markdown",
   "metadata": {},
   "source": [
    "## Imports"
   ]
  },
  {
   "cell_type": "code",
   "execution_count": 1,
   "metadata": {},
   "outputs": [],
   "source": [
    "import gymnasium as gym\n",
    "import highway_env\n",
    "from matplotlib import pyplot as plt"
   ]
  },
  {
   "cell_type": "markdown",
   "metadata": {},
   "source": [
    "## Environment"
   ]
  },
  {
   "cell_type": "markdown",
   "metadata": {},
   "source": [
    "### Environment Creation"
   ]
  },
  {
   "cell_type": "code",
   "execution_count": 2,
   "metadata": {},
   "outputs": [],
   "source": [
    "env = gym.make('highway-v0')"
   ]
  },
  {
   "cell_type": "code",
   "execution_count": 3,
   "metadata": {},
   "outputs": [
    {
     "ename": "AttributeError",
     "evalue": "'OrderEnforcing' object has no attribute 'configure'",
     "output_type": "error",
     "traceback": [
      "\u001b[0;31m---------------------------------------------------------------------------\u001b[0m",
      "\u001b[0;31mAttributeError\u001b[0m                            Traceback (most recent call last)",
      "\u001b[1;32m/Users/joewagner/Documents/GitHub/2025Spring/IRL_driving_environment/IRL_driving_environment/rl_scripts/apprenticeship_learning.ipynb Cell 8\u001b[0m line \u001b[0;36m1\n\u001b[0;32m----> <a href='vscode-notebook-cell:/Users/joewagner/Documents/GitHub/2025Spring/IRL_driving_environment/IRL_driving_environment/rl_scripts/apprenticeship_learning.ipynb#X13sZmlsZQ%3D%3D?line=0'>1</a>\u001b[0m env\u001b[39m.\u001b[39;49mconfigure({\n\u001b[1;32m      <a href='vscode-notebook-cell:/Users/joewagner/Documents/GitHub/2025Spring/IRL_driving_environment/IRL_driving_environment/rl_scripts/apprenticeship_learning.ipynb#X13sZmlsZQ%3D%3D?line=1'>2</a>\u001b[0m     \u001b[39m\"\u001b[39m\u001b[39mobservation\u001b[39m\u001b[39m\"\u001b[39m: {\n\u001b[1;32m      <a href='vscode-notebook-cell:/Users/joewagner/Documents/GitHub/2025Spring/IRL_driving_environment/IRL_driving_environment/rl_scripts/apprenticeship_learning.ipynb#X13sZmlsZQ%3D%3D?line=2'>3</a>\u001b[0m         \u001b[39m\"\u001b[39m\u001b[39mtype\u001b[39m\u001b[39m\"\u001b[39m: \u001b[39m\"\u001b[39m\u001b[39mKinematics\u001b[39m\u001b[39m\"\u001b[39m,\n\u001b[1;32m      <a href='vscode-notebook-cell:/Users/joewagner/Documents/GitHub/2025Spring/IRL_driving_environment/IRL_driving_environment/rl_scripts/apprenticeship_learning.ipynb#X13sZmlsZQ%3D%3D?line=3'>4</a>\u001b[0m         \u001b[39m\"\u001b[39m\u001b[39mvehicles_count\u001b[39m\u001b[39m\"\u001b[39m: \u001b[39m5\u001b[39m,  \u001b[39m# Number of vehicles in the scene\u001b[39;00m\n\u001b[1;32m      <a href='vscode-notebook-cell:/Users/joewagner/Documents/GitHub/2025Spring/IRL_driving_environment/IRL_driving_environment/rl_scripts/apprenticeship_learning.ipynb#X13sZmlsZQ%3D%3D?line=4'>5</a>\u001b[0m         \u001b[39m\"\u001b[39m\u001b[39mfeatures\u001b[39m\u001b[39m\"\u001b[39m: [\u001b[39m\"\u001b[39m\u001b[39mpresence\u001b[39m\u001b[39m\"\u001b[39m, \u001b[39m\"\u001b[39m\u001b[39mx\u001b[39m\u001b[39m\"\u001b[39m, \u001b[39m\"\u001b[39m\u001b[39my\u001b[39m\u001b[39m\"\u001b[39m, \u001b[39m\"\u001b[39m\u001b[39mvx\u001b[39m\u001b[39m\"\u001b[39m, \u001b[39m\"\u001b[39m\u001b[39mvy\u001b[39m\u001b[39m\"\u001b[39m],\n\u001b[1;32m      <a href='vscode-notebook-cell:/Users/joewagner/Documents/GitHub/2025Spring/IRL_driving_environment/IRL_driving_environment/rl_scripts/apprenticeship_learning.ipynb#X13sZmlsZQ%3D%3D?line=5'>6</a>\u001b[0m         \u001b[39m\"\u001b[39m\u001b[39mabsolute\u001b[39m\u001b[39m\"\u001b[39m: \u001b[39mTrue\u001b[39;00m,\n\u001b[1;32m      <a href='vscode-notebook-cell:/Users/joewagner/Documents/GitHub/2025Spring/IRL_driving_environment/IRL_driving_environment/rl_scripts/apprenticeship_learning.ipynb#X13sZmlsZQ%3D%3D?line=6'>7</a>\u001b[0m         \u001b[39m\"\u001b[39m\u001b[39mnormalize\u001b[39m\u001b[39m\"\u001b[39m: \u001b[39mFalse\u001b[39;00m\n\u001b[1;32m      <a href='vscode-notebook-cell:/Users/joewagner/Documents/GitHub/2025Spring/IRL_driving_environment/IRL_driving_environment/rl_scripts/apprenticeship_learning.ipynb#X13sZmlsZQ%3D%3D?line=7'>8</a>\u001b[0m     },\n\u001b[1;32m      <a href='vscode-notebook-cell:/Users/joewagner/Documents/GitHub/2025Spring/IRL_driving_environment/IRL_driving_environment/rl_scripts/apprenticeship_learning.ipynb#X13sZmlsZQ%3D%3D?line=8'>9</a>\u001b[0m     \u001b[39m\"\u001b[39m\u001b[39maction\u001b[39m\u001b[39m\"\u001b[39m: {\n\u001b[1;32m     <a href='vscode-notebook-cell:/Users/joewagner/Documents/GitHub/2025Spring/IRL_driving_environment/IRL_driving_environment/rl_scripts/apprenticeship_learning.ipynb#X13sZmlsZQ%3D%3D?line=9'>10</a>\u001b[0m         \u001b[39m\"\u001b[39m\u001b[39mtype\u001b[39m\u001b[39m\"\u001b[39m: \u001b[39m\"\u001b[39m\u001b[39mDiscreteMetaAction\u001b[39m\u001b[39m\"\u001b[39m,\n\u001b[1;32m     <a href='vscode-notebook-cell:/Users/joewagner/Documents/GitHub/2025Spring/IRL_driving_environment/IRL_driving_environment/rl_scripts/apprenticeship_learning.ipynb#X13sZmlsZQ%3D%3D?line=10'>11</a>\u001b[0m         \u001b[39m\"\u001b[39m\u001b[39mlongitudinal\u001b[39m\u001b[39m\"\u001b[39m: \u001b[39mTrue\u001b[39;00m,\n\u001b[1;32m     <a href='vscode-notebook-cell:/Users/joewagner/Documents/GitHub/2025Spring/IRL_driving_environment/IRL_driving_environment/rl_scripts/apprenticeship_learning.ipynb#X13sZmlsZQ%3D%3D?line=11'>12</a>\u001b[0m         \u001b[39m\"\u001b[39m\u001b[39mlateral\u001b[39m\u001b[39m\"\u001b[39m: \u001b[39mTrue\u001b[39;00m\n\u001b[1;32m     <a href='vscode-notebook-cell:/Users/joewagner/Documents/GitHub/2025Spring/IRL_driving_environment/IRL_driving_environment/rl_scripts/apprenticeship_learning.ipynb#X13sZmlsZQ%3D%3D?line=12'>13</a>\u001b[0m     },\n\u001b[1;32m     <a href='vscode-notebook-cell:/Users/joewagner/Documents/GitHub/2025Spring/IRL_driving_environment/IRL_driving_environment/rl_scripts/apprenticeship_learning.ipynb#X13sZmlsZQ%3D%3D?line=13'>14</a>\u001b[0m     \u001b[39m\"\u001b[39m\u001b[39mduration\u001b[39m\u001b[39m\"\u001b[39m: \u001b[39m40\u001b[39m,  \u001b[39m# Number of steps per episode\u001b[39;00m\n\u001b[1;32m     <a href='vscode-notebook-cell:/Users/joewagner/Documents/GitHub/2025Spring/IRL_driving_environment/IRL_driving_environment/rl_scripts/apprenticeship_learning.ipynb#X13sZmlsZQ%3D%3D?line=14'>15</a>\u001b[0m     \u001b[39m\"\u001b[39m\u001b[39mlanes_count\u001b[39m\u001b[39m\"\u001b[39m: \u001b[39m3\u001b[39m,\n\u001b[1;32m     <a href='vscode-notebook-cell:/Users/joewagner/Documents/GitHub/2025Spring/IRL_driving_environment/IRL_driving_environment/rl_scripts/apprenticeship_learning.ipynb#X13sZmlsZQ%3D%3D?line=15'>16</a>\u001b[0m     \u001b[39m\"\u001b[39m\u001b[39mvehicles_density\u001b[39m\u001b[39m\"\u001b[39m: \u001b[39m1.0\u001b[39m,\n\u001b[1;32m     <a href='vscode-notebook-cell:/Users/joewagner/Documents/GitHub/2025Spring/IRL_driving_environment/IRL_driving_environment/rl_scripts/apprenticeship_learning.ipynb#X13sZmlsZQ%3D%3D?line=16'>17</a>\u001b[0m     \u001b[39m\"\u001b[39m\u001b[39mcollision_reward\u001b[39m\u001b[39m\"\u001b[39m: \u001b[39m-\u001b[39m\u001b[39m1\u001b[39m,\n\u001b[1;32m     <a href='vscode-notebook-cell:/Users/joewagner/Documents/GitHub/2025Spring/IRL_driving_environment/IRL_driving_environment/rl_scripts/apprenticeship_learning.ipynb#X13sZmlsZQ%3D%3D?line=17'>18</a>\u001b[0m     \u001b[39m\"\u001b[39m\u001b[39mright_lane_reward\u001b[39m\u001b[39m\"\u001b[39m: \u001b[39m0.1\u001b[39m,\n\u001b[1;32m     <a href='vscode-notebook-cell:/Users/joewagner/Documents/GitHub/2025Spring/IRL_driving_environment/IRL_driving_environment/rl_scripts/apprenticeship_learning.ipynb#X13sZmlsZQ%3D%3D?line=18'>19</a>\u001b[0m     \u001b[39m\"\u001b[39m\u001b[39mhigh_speed_reward\u001b[39m\u001b[39m\"\u001b[39m: \u001b[39m0.4\u001b[39m,\n\u001b[1;32m     <a href='vscode-notebook-cell:/Users/joewagner/Documents/GitHub/2025Spring/IRL_driving_environment/IRL_driving_environment/rl_scripts/apprenticeship_learning.ipynb#X13sZmlsZQ%3D%3D?line=19'>20</a>\u001b[0m     \u001b[39m\"\u001b[39m\u001b[39mreward_speed_range\u001b[39m\u001b[39m\"\u001b[39m: [\u001b[39m20\u001b[39m, \u001b[39m30\u001b[39m],\n\u001b[1;32m     <a href='vscode-notebook-cell:/Users/joewagner/Documents/GitHub/2025Spring/IRL_driving_environment/IRL_driving_environment/rl_scripts/apprenticeship_learning.ipynb#X13sZmlsZQ%3D%3D?line=20'>21</a>\u001b[0m     \u001b[39m\"\u001b[39m\u001b[39mnormalize_reward\u001b[39m\u001b[39m\"\u001b[39m: \u001b[39mTrue\u001b[39;00m\n\u001b[1;32m     <a href='vscode-notebook-cell:/Users/joewagner/Documents/GitHub/2025Spring/IRL_driving_environment/IRL_driving_environment/rl_scripts/apprenticeship_learning.ipynb#X13sZmlsZQ%3D%3D?line=21'>22</a>\u001b[0m })\n",
      "\u001b[0;31mAttributeError\u001b[0m: 'OrderEnforcing' object has no attribute 'configure'"
     ]
    }
   ],
   "source": [
    "env.configure({\n",
    "    \"observation\": {\n",
    "        \"type\": \"Kinematics\",\n",
    "        \"vehicles_count\": 5,  # Number of vehicles in the scene\n",
    "        \"features\": [\"presence\", \"x\", \"y\", \"vx\", \"vy\"],\n",
    "        \"absolute\": True,\n",
    "        \"normalize\": False\n",
    "    },\n",
    "    \"action\": {\n",
    "        \"type\": \"DiscreteMetaAction\",\n",
    "        \"longitudinal\": True,\n",
    "        \"lateral\": True\n",
    "    },\n",
    "    \"duration\": 40,  # Number of steps per episode\n",
    "    \"lanes_count\": 3,\n",
    "    \"vehicles_density\": 1.0,\n",
    "    \"collision_reward\": -1,\n",
    "    \"right_lane_reward\": 0.1,\n",
    "    \"high_speed_reward\": 0.4,\n",
    "    \"reward_speed_range\": [20, 30],\n",
    "    \"normalize_reward\": True\n",
    "})"
   ]
  },
  {
   "cell_type": "code",
   "execution_count": null,
   "metadata": {},
   "outputs": [],
   "source": [
    "# Convert to finite MDP\n",
    "env = env.to_finite_mdp()\n",
    "\n",
    "# Print environment information\n",
    "print(\"Observation space:\", env.observation_space)\n",
    "print(\"Action space:\", env.action_space)\n",
    "print(\"Number of states:\", env.observation_space.n)\n",
    "print(\"Number of actions:\", env.action_space.n)"
   ]
  },
  {
   "cell_type": "markdown",
   "metadata": {},
   "source": [
    "### Observation Space"
   ]
  },
  {
   "cell_type": "markdown",
   "metadata": {},
   "source": []
  }
 ],
 "metadata": {
  "language_info": {
   "name": "python"
  }
 },
 "nbformat": 4,
 "nbformat_minor": 2
}
